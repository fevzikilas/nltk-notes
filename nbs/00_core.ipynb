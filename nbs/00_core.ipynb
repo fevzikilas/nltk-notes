{
 "cells": [
  {
   "cell_type": "code",
   "execution_count": null,
   "metadata": {},
   "outputs": [],
   "source": []
  },
  {
   "cell_type": "markdown",
   "metadata": {},
   "source": [
    "# Fevzi KILAS"
   ]
  },
  {
   "cell_type": "markdown",
   "metadata": {},
   "source": [
    "<div align=\"center\">\n",
    "<img src=\"https://media0.giphy.com/media/v1.Y2lkPTc5MGI3NjExcHlyNjdxamhyYXh3dWQ5ZXdocjAyczU4bmFhbjdmZWs0eGNiZmUyYSZlcD12MV9pbnRlcm5hbF9naWZfYnlfaWQmY3Q9Zw/z3jet2s1HeEy4/giphy.gif\" align=\"right\" width=\"350px\">\n",
    "</div>\n",
    "\n",
    "\n",
    "<div align=\"left\" style=\"font-size: 18px; line-height: 1.6;\">\n",
    "<p><strong>Data Scientist and AI Researcher</strong></p>\n",
    "<p><a href=\"https://niexche.github.io\" style=\"font-size: 18px; text-decoration: none;\">Personal Website</a></p>\n",
    "<p><a href=\"https://fevzikilas.github.io\" style=\"font-size: 18px; text-decoration: none;\">Fevzi KILAS Website</a></p>\n",
    "<p><a href=\"https://github.com/fevzikilas\" style=\"font-size: 18px; text-decoration: none;\">GitHub</a></p>\n",
    "<p><a href=\"https://huggingface.co/nieche\" style=\"font-size: 18px; text-decoration: none;\">Hugging Face</a></p>\n",
    "<p>LinkedIn: <a href=\"https://www.linkedin.com/in/fevzikilas\" style=\"font-size: 18px; text-decoration: none;\">Fevzi KILAS</a></p>\n",
    "</div>\n"
   ]
  },
  {
   "cell_type": "code",
   "execution_count": null,
   "metadata": {},
   "outputs": [],
   "source": []
  }
 ],
 "metadata": {
  "kernelspec": {
   "display_name": "nlp-l",
   "language": "python",
   "name": "python3"
  },
  "language_info": {
   "codemirror_mode": {
    "name": "ipython",
    "version": 3
   },
   "file_extension": ".py",
   "mimetype": "text/x-python",
   "name": "python",
   "nbconvert_exporter": "python",
   "pygments_lexer": "ipython3",
   "version": "3.12.7"
  }
 },
 "nbformat": 4,
 "nbformat_minor": 4
}
